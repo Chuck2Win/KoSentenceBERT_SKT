{
  "nbformat": 4,
  "nbformat_minor": 0,
  "metadata": {
    "colab": {
      "name": "SBERT-자막.ipynb",
      "provenance": [],
      "collapsed_sections": [],
      "machine_shape": "hm",
      "authorship_tag": "ABX9TyNi68Rf0/s1o3CG95HEEAOh",
      "include_colab_link": true
    },
    "kernelspec": {
      "name": "python3",
      "display_name": "Python 3"
    },
    "language_info": {
      "name": "python"
    },
    "accelerator": "GPU",
    "widgets": {
      "application/vnd.jupyter.widget-state+json": {
        "df087d545f4849c28f6350d25675fc47": {
          "model_module": "@jupyter-widgets/controls",
          "model_name": "HBoxModel",
          "model_module_version": "1.5.0",
          "state": {
            "_view_name": "HBoxView",
            "_dom_classes": [],
            "_model_name": "HBoxModel",
            "_view_module": "@jupyter-widgets/controls",
            "_model_module_version": "1.5.0",
            "_view_count": null,
            "_view_module_version": "1.5.0",
            "box_style": "",
            "layout": "IPY_MODEL_6f847ea4c9de4ac1aa69905d0748f3de",
            "_model_module": "@jupyter-widgets/controls",
            "children": [
              "IPY_MODEL_4ad7efbf83e04a3ab0e63b0ada4742d7",
              "IPY_MODEL_0b268c5caaec4d9cbffd7115e43dae77",
              "IPY_MODEL_63a6bb4e5dd74f8f9d2319652aec51d9"
            ]
          }
        },
        "6f847ea4c9de4ac1aa69905d0748f3de": {
          "model_module": "@jupyter-widgets/base",
          "model_name": "LayoutModel",
          "model_module_version": "1.2.0",
          "state": {
            "_view_name": "LayoutView",
            "grid_template_rows": null,
            "right": null,
            "justify_content": null,
            "_view_module": "@jupyter-widgets/base",
            "overflow": null,
            "_model_module_version": "1.2.0",
            "_view_count": null,
            "flex_flow": null,
            "width": null,
            "min_width": null,
            "border": null,
            "align_items": null,
            "bottom": null,
            "_model_module": "@jupyter-widgets/base",
            "top": null,
            "grid_column": null,
            "overflow_y": null,
            "overflow_x": null,
            "grid_auto_flow": null,
            "grid_area": null,
            "grid_template_columns": null,
            "flex": null,
            "_model_name": "LayoutModel",
            "justify_items": null,
            "grid_row": null,
            "max_height": null,
            "align_content": null,
            "visibility": null,
            "align_self": null,
            "height": null,
            "min_height": null,
            "padding": null,
            "grid_auto_rows": null,
            "grid_gap": null,
            "max_width": null,
            "order": null,
            "_view_module_version": "1.2.0",
            "grid_template_areas": null,
            "object_position": null,
            "object_fit": null,
            "grid_auto_columns": null,
            "margin": null,
            "display": null,
            "left": null
          }
        },
        "4ad7efbf83e04a3ab0e63b0ada4742d7": {
          "model_module": "@jupyter-widgets/controls",
          "model_name": "HTMLModel",
          "model_module_version": "1.5.0",
          "state": {
            "_view_name": "HTMLView",
            "style": "IPY_MODEL_075c2fcf8c9f413abc47e7d78fe4a530",
            "_dom_classes": [],
            "description": "",
            "_model_name": "HTMLModel",
            "placeholder": "​",
            "_view_module": "@jupyter-widgets/controls",
            "_model_module_version": "1.5.0",
            "value": "Batches: 100%",
            "_view_count": null,
            "_view_module_version": "1.5.0",
            "description_tooltip": null,
            "_model_module": "@jupyter-widgets/controls",
            "layout": "IPY_MODEL_f619006c95ad4a568c823e56bb66ab95"
          }
        },
        "0b268c5caaec4d9cbffd7115e43dae77": {
          "model_module": "@jupyter-widgets/controls",
          "model_name": "FloatProgressModel",
          "model_module_version": "1.5.0",
          "state": {
            "_view_name": "ProgressView",
            "style": "IPY_MODEL_1d4bd8eab238455caa20ec805c21a8c5",
            "_dom_classes": [],
            "description": "",
            "_model_name": "FloatProgressModel",
            "bar_style": "success",
            "max": 4,
            "_view_module": "@jupyter-widgets/controls",
            "_model_module_version": "1.5.0",
            "value": 4,
            "_view_count": null,
            "_view_module_version": "1.5.0",
            "orientation": "horizontal",
            "min": 0,
            "description_tooltip": null,
            "_model_module": "@jupyter-widgets/controls",
            "layout": "IPY_MODEL_1123b8f8f89a4945be626c762b93e0cf"
          }
        },
        "63a6bb4e5dd74f8f9d2319652aec51d9": {
          "model_module": "@jupyter-widgets/controls",
          "model_name": "HTMLModel",
          "model_module_version": "1.5.0",
          "state": {
            "_view_name": "HTMLView",
            "style": "IPY_MODEL_f15a193de5384c25806ee56feacf2e55",
            "_dom_classes": [],
            "description": "",
            "_model_name": "HTMLModel",
            "placeholder": "​",
            "_view_module": "@jupyter-widgets/controls",
            "_model_module_version": "1.5.0",
            "value": " 4/4 [00:01&lt;00:00,  2.39it/s]",
            "_view_count": null,
            "_view_module_version": "1.5.0",
            "description_tooltip": null,
            "_model_module": "@jupyter-widgets/controls",
            "layout": "IPY_MODEL_9b6fdd7f21f94a9d879426048bb75405"
          }
        },
        "075c2fcf8c9f413abc47e7d78fe4a530": {
          "model_module": "@jupyter-widgets/controls",
          "model_name": "DescriptionStyleModel",
          "model_module_version": "1.5.0",
          "state": {
            "_view_name": "StyleView",
            "_model_name": "DescriptionStyleModel",
            "description_width": "",
            "_view_module": "@jupyter-widgets/base",
            "_model_module_version": "1.5.0",
            "_view_count": null,
            "_view_module_version": "1.2.0",
            "_model_module": "@jupyter-widgets/controls"
          }
        },
        "f619006c95ad4a568c823e56bb66ab95": {
          "model_module": "@jupyter-widgets/base",
          "model_name": "LayoutModel",
          "model_module_version": "1.2.0",
          "state": {
            "_view_name": "LayoutView",
            "grid_template_rows": null,
            "right": null,
            "justify_content": null,
            "_view_module": "@jupyter-widgets/base",
            "overflow": null,
            "_model_module_version": "1.2.0",
            "_view_count": null,
            "flex_flow": null,
            "width": null,
            "min_width": null,
            "border": null,
            "align_items": null,
            "bottom": null,
            "_model_module": "@jupyter-widgets/base",
            "top": null,
            "grid_column": null,
            "overflow_y": null,
            "overflow_x": null,
            "grid_auto_flow": null,
            "grid_area": null,
            "grid_template_columns": null,
            "flex": null,
            "_model_name": "LayoutModel",
            "justify_items": null,
            "grid_row": null,
            "max_height": null,
            "align_content": null,
            "visibility": null,
            "align_self": null,
            "height": null,
            "min_height": null,
            "padding": null,
            "grid_auto_rows": null,
            "grid_gap": null,
            "max_width": null,
            "order": null,
            "_view_module_version": "1.2.0",
            "grid_template_areas": null,
            "object_position": null,
            "object_fit": null,
            "grid_auto_columns": null,
            "margin": null,
            "display": null,
            "left": null
          }
        },
        "1d4bd8eab238455caa20ec805c21a8c5": {
          "model_module": "@jupyter-widgets/controls",
          "model_name": "ProgressStyleModel",
          "model_module_version": "1.5.0",
          "state": {
            "_view_name": "StyleView",
            "_model_name": "ProgressStyleModel",
            "description_width": "",
            "_view_module": "@jupyter-widgets/base",
            "_model_module_version": "1.5.0",
            "_view_count": null,
            "_view_module_version": "1.2.0",
            "bar_color": null,
            "_model_module": "@jupyter-widgets/controls"
          }
        },
        "1123b8f8f89a4945be626c762b93e0cf": {
          "model_module": "@jupyter-widgets/base",
          "model_name": "LayoutModel",
          "model_module_version": "1.2.0",
          "state": {
            "_view_name": "LayoutView",
            "grid_template_rows": null,
            "right": null,
            "justify_content": null,
            "_view_module": "@jupyter-widgets/base",
            "overflow": null,
            "_model_module_version": "1.2.0",
            "_view_count": null,
            "flex_flow": null,
            "width": null,
            "min_width": null,
            "border": null,
            "align_items": null,
            "bottom": null,
            "_model_module": "@jupyter-widgets/base",
            "top": null,
            "grid_column": null,
            "overflow_y": null,
            "overflow_x": null,
            "grid_auto_flow": null,
            "grid_area": null,
            "grid_template_columns": null,
            "flex": null,
            "_model_name": "LayoutModel",
            "justify_items": null,
            "grid_row": null,
            "max_height": null,
            "align_content": null,
            "visibility": null,
            "align_self": null,
            "height": null,
            "min_height": null,
            "padding": null,
            "grid_auto_rows": null,
            "grid_gap": null,
            "max_width": null,
            "order": null,
            "_view_module_version": "1.2.0",
            "grid_template_areas": null,
            "object_position": null,
            "object_fit": null,
            "grid_auto_columns": null,
            "margin": null,
            "display": null,
            "left": null
          }
        },
        "f15a193de5384c25806ee56feacf2e55": {
          "model_module": "@jupyter-widgets/controls",
          "model_name": "DescriptionStyleModel",
          "model_module_version": "1.5.0",
          "state": {
            "_view_name": "StyleView",
            "_model_name": "DescriptionStyleModel",
            "description_width": "",
            "_view_module": "@jupyter-widgets/base",
            "_model_module_version": "1.5.0",
            "_view_count": null,
            "_view_module_version": "1.2.0",
            "_model_module": "@jupyter-widgets/controls"
          }
        },
        "9b6fdd7f21f94a9d879426048bb75405": {
          "model_module": "@jupyter-widgets/base",
          "model_name": "LayoutModel",
          "model_module_version": "1.2.0",
          "state": {
            "_view_name": "LayoutView",
            "grid_template_rows": null,
            "right": null,
            "justify_content": null,
            "_view_module": "@jupyter-widgets/base",
            "overflow": null,
            "_model_module_version": "1.2.0",
            "_view_count": null,
            "flex_flow": null,
            "width": null,
            "min_width": null,
            "border": null,
            "align_items": null,
            "bottom": null,
            "_model_module": "@jupyter-widgets/base",
            "top": null,
            "grid_column": null,
            "overflow_y": null,
            "overflow_x": null,
            "grid_auto_flow": null,
            "grid_area": null,
            "grid_template_columns": null,
            "flex": null,
            "_model_name": "LayoutModel",
            "justify_items": null,
            "grid_row": null,
            "max_height": null,
            "align_content": null,
            "visibility": null,
            "align_self": null,
            "height": null,
            "min_height": null,
            "padding": null,
            "grid_auto_rows": null,
            "grid_gap": null,
            "max_width": null,
            "order": null,
            "_view_module_version": "1.2.0",
            "grid_template_areas": null,
            "object_position": null,
            "object_fit": null,
            "grid_auto_columns": null,
            "margin": null,
            "display": null,
            "left": null
          }
        },
        "8ac16b5e3d4a4fed85c34fd3d64fb8f8": {
          "model_module": "@jupyter-widgets/controls",
          "model_name": "HBoxModel",
          "model_module_version": "1.5.0",
          "state": {
            "_view_name": "HBoxView",
            "_dom_classes": [],
            "_model_name": "HBoxModel",
            "_view_module": "@jupyter-widgets/controls",
            "_model_module_version": "1.5.0",
            "_view_count": null,
            "_view_module_version": "1.5.0",
            "box_style": "",
            "layout": "IPY_MODEL_04107f5a7fee4726969424bdce39873c",
            "_model_module": "@jupyter-widgets/controls",
            "children": [
              "IPY_MODEL_50c4bf1ebc764fabb85ea262b71b9406",
              "IPY_MODEL_5253ab8f4df5423db6f0f5346f925a4d",
              "IPY_MODEL_16382d63c40e4fc7a4bcb4d47e0e62b1"
            ]
          }
        },
        "04107f5a7fee4726969424bdce39873c": {
          "model_module": "@jupyter-widgets/base",
          "model_name": "LayoutModel",
          "model_module_version": "1.2.0",
          "state": {
            "_view_name": "LayoutView",
            "grid_template_rows": null,
            "right": null,
            "justify_content": null,
            "_view_module": "@jupyter-widgets/base",
            "overflow": null,
            "_model_module_version": "1.2.0",
            "_view_count": null,
            "flex_flow": null,
            "width": null,
            "min_width": null,
            "border": null,
            "align_items": null,
            "bottom": null,
            "_model_module": "@jupyter-widgets/base",
            "top": null,
            "grid_column": null,
            "overflow_y": null,
            "overflow_x": null,
            "grid_auto_flow": null,
            "grid_area": null,
            "grid_template_columns": null,
            "flex": null,
            "_model_name": "LayoutModel",
            "justify_items": null,
            "grid_row": null,
            "max_height": null,
            "align_content": null,
            "visibility": null,
            "align_self": null,
            "height": null,
            "min_height": null,
            "padding": null,
            "grid_auto_rows": null,
            "grid_gap": null,
            "max_width": null,
            "order": null,
            "_view_module_version": "1.2.0",
            "grid_template_areas": null,
            "object_position": null,
            "object_fit": null,
            "grid_auto_columns": null,
            "margin": null,
            "display": null,
            "left": null
          }
        },
        "50c4bf1ebc764fabb85ea262b71b9406": {
          "model_module": "@jupyter-widgets/controls",
          "model_name": "HTMLModel",
          "model_module_version": "1.5.0",
          "state": {
            "_view_name": "HTMLView",
            "style": "IPY_MODEL_de7e63954c554b46a7745bac2ee13ced",
            "_dom_classes": [],
            "description": "",
            "_model_name": "HTMLModel",
            "placeholder": "​",
            "_view_module": "@jupyter-widgets/controls",
            "_model_module_version": "1.5.0",
            "value": "Batches: 100%",
            "_view_count": null,
            "_view_module_version": "1.5.0",
            "description_tooltip": null,
            "_model_module": "@jupyter-widgets/controls",
            "layout": "IPY_MODEL_62ca8945338748c8a3d9e18d0c8d4bc2"
          }
        },
        "5253ab8f4df5423db6f0f5346f925a4d": {
          "model_module": "@jupyter-widgets/controls",
          "model_name": "FloatProgressModel",
          "model_module_version": "1.5.0",
          "state": {
            "_view_name": "ProgressView",
            "style": "IPY_MODEL_3499e2337cc447d893d0be38532281de",
            "_dom_classes": [],
            "description": "",
            "_model_name": "FloatProgressModel",
            "bar_style": "success",
            "max": 7,
            "_view_module": "@jupyter-widgets/controls",
            "_model_module_version": "1.5.0",
            "value": 7,
            "_view_count": null,
            "_view_module_version": "1.5.0",
            "orientation": "horizontal",
            "min": 0,
            "description_tooltip": null,
            "_model_module": "@jupyter-widgets/controls",
            "layout": "IPY_MODEL_c330900b34104598b38fc438451580c5"
          }
        },
        "16382d63c40e4fc7a4bcb4d47e0e62b1": {
          "model_module": "@jupyter-widgets/controls",
          "model_name": "HTMLModel",
          "model_module_version": "1.5.0",
          "state": {
            "_view_name": "HTMLView",
            "style": "IPY_MODEL_fc20493c75fe408c9832f218750edc3c",
            "_dom_classes": [],
            "description": "",
            "_model_name": "HTMLModel",
            "placeholder": "​",
            "_view_module": "@jupyter-widgets/controls",
            "_model_module_version": "1.5.0",
            "value": " 7/7 [00:02&lt;00:00,  2.96it/s]",
            "_view_count": null,
            "_view_module_version": "1.5.0",
            "description_tooltip": null,
            "_model_module": "@jupyter-widgets/controls",
            "layout": "IPY_MODEL_cc43a65bab454fe6b88b4b24c283731c"
          }
        },
        "de7e63954c554b46a7745bac2ee13ced": {
          "model_module": "@jupyter-widgets/controls",
          "model_name": "DescriptionStyleModel",
          "model_module_version": "1.5.0",
          "state": {
            "_view_name": "StyleView",
            "_model_name": "DescriptionStyleModel",
            "description_width": "",
            "_view_module": "@jupyter-widgets/base",
            "_model_module_version": "1.5.0",
            "_view_count": null,
            "_view_module_version": "1.2.0",
            "_model_module": "@jupyter-widgets/controls"
          }
        },
        "62ca8945338748c8a3d9e18d0c8d4bc2": {
          "model_module": "@jupyter-widgets/base",
          "model_name": "LayoutModel",
          "model_module_version": "1.2.0",
          "state": {
            "_view_name": "LayoutView",
            "grid_template_rows": null,
            "right": null,
            "justify_content": null,
            "_view_module": "@jupyter-widgets/base",
            "overflow": null,
            "_model_module_version": "1.2.0",
            "_view_count": null,
            "flex_flow": null,
            "width": null,
            "min_width": null,
            "border": null,
            "align_items": null,
            "bottom": null,
            "_model_module": "@jupyter-widgets/base",
            "top": null,
            "grid_column": null,
            "overflow_y": null,
            "overflow_x": null,
            "grid_auto_flow": null,
            "grid_area": null,
            "grid_template_columns": null,
            "flex": null,
            "_model_name": "LayoutModel",
            "justify_items": null,
            "grid_row": null,
            "max_height": null,
            "align_content": null,
            "visibility": null,
            "align_self": null,
            "height": null,
            "min_height": null,
            "padding": null,
            "grid_auto_rows": null,
            "grid_gap": null,
            "max_width": null,
            "order": null,
            "_view_module_version": "1.2.0",
            "grid_template_areas": null,
            "object_position": null,
            "object_fit": null,
            "grid_auto_columns": null,
            "margin": null,
            "display": null,
            "left": null
          }
        },
        "3499e2337cc447d893d0be38532281de": {
          "model_module": "@jupyter-widgets/controls",
          "model_name": "ProgressStyleModel",
          "model_module_version": "1.5.0",
          "state": {
            "_view_name": "StyleView",
            "_model_name": "ProgressStyleModel",
            "description_width": "",
            "_view_module": "@jupyter-widgets/base",
            "_model_module_version": "1.5.0",
            "_view_count": null,
            "_view_module_version": "1.2.0",
            "bar_color": null,
            "_model_module": "@jupyter-widgets/controls"
          }
        },
        "c330900b34104598b38fc438451580c5": {
          "model_module": "@jupyter-widgets/base",
          "model_name": "LayoutModel",
          "model_module_version": "1.2.0",
          "state": {
            "_view_name": "LayoutView",
            "grid_template_rows": null,
            "right": null,
            "justify_content": null,
            "_view_module": "@jupyter-widgets/base",
            "overflow": null,
            "_model_module_version": "1.2.0",
            "_view_count": null,
            "flex_flow": null,
            "width": null,
            "min_width": null,
            "border": null,
            "align_items": null,
            "bottom": null,
            "_model_module": "@jupyter-widgets/base",
            "top": null,
            "grid_column": null,
            "overflow_y": null,
            "overflow_x": null,
            "grid_auto_flow": null,
            "grid_area": null,
            "grid_template_columns": null,
            "flex": null,
            "_model_name": "LayoutModel",
            "justify_items": null,
            "grid_row": null,
            "max_height": null,
            "align_content": null,
            "visibility": null,
            "align_self": null,
            "height": null,
            "min_height": null,
            "padding": null,
            "grid_auto_rows": null,
            "grid_gap": null,
            "max_width": null,
            "order": null,
            "_view_module_version": "1.2.0",
            "grid_template_areas": null,
            "object_position": null,
            "object_fit": null,
            "grid_auto_columns": null,
            "margin": null,
            "display": null,
            "left": null
          }
        },
        "fc20493c75fe408c9832f218750edc3c": {
          "model_module": "@jupyter-widgets/controls",
          "model_name": "DescriptionStyleModel",
          "model_module_version": "1.5.0",
          "state": {
            "_view_name": "StyleView",
            "_model_name": "DescriptionStyleModel",
            "description_width": "",
            "_view_module": "@jupyter-widgets/base",
            "_model_module_version": "1.5.0",
            "_view_count": null,
            "_view_module_version": "1.2.0",
            "_model_module": "@jupyter-widgets/controls"
          }
        },
        "cc43a65bab454fe6b88b4b24c283731c": {
          "model_module": "@jupyter-widgets/base",
          "model_name": "LayoutModel",
          "model_module_version": "1.2.0",
          "state": {
            "_view_name": "LayoutView",
            "grid_template_rows": null,
            "right": null,
            "justify_content": null,
            "_view_module": "@jupyter-widgets/base",
            "overflow": null,
            "_model_module_version": "1.2.0",
            "_view_count": null,
            "flex_flow": null,
            "width": null,
            "min_width": null,
            "border": null,
            "align_items": null,
            "bottom": null,
            "_model_module": "@jupyter-widgets/base",
            "top": null,
            "grid_column": null,
            "overflow_y": null,
            "overflow_x": null,
            "grid_auto_flow": null,
            "grid_area": null,
            "grid_template_columns": null,
            "flex": null,
            "_model_name": "LayoutModel",
            "justify_items": null,
            "grid_row": null,
            "max_height": null,
            "align_content": null,
            "visibility": null,
            "align_self": null,
            "height": null,
            "min_height": null,
            "padding": null,
            "grid_auto_rows": null,
            "grid_gap": null,
            "max_width": null,
            "order": null,
            "_view_module_version": "1.2.0",
            "grid_template_areas": null,
            "object_position": null,
            "object_fit": null,
            "grid_auto_columns": null,
            "margin": null,
            "display": null,
            "left": null
          }
        },
        "52ee78ad04bb4a979527bf46a3eb7739": {
          "model_module": "@jupyter-widgets/controls",
          "model_name": "HBoxModel",
          "model_module_version": "1.5.0",
          "state": {
            "_view_name": "HBoxView",
            "_dom_classes": [],
            "_model_name": "HBoxModel",
            "_view_module": "@jupyter-widgets/controls",
            "_model_module_version": "1.5.0",
            "_view_count": null,
            "_view_module_version": "1.5.0",
            "box_style": "",
            "layout": "IPY_MODEL_b1a39dbf539c4c84bf04373699293915",
            "_model_module": "@jupyter-widgets/controls",
            "children": [
              "IPY_MODEL_c12f39fd7a12424492ce357859e65823",
              "IPY_MODEL_c834a8158e534e819cbd41409d3b5ea5",
              "IPY_MODEL_44b6a91bee174ba4bd986abd68c9cd85"
            ]
          }
        },
        "b1a39dbf539c4c84bf04373699293915": {
          "model_module": "@jupyter-widgets/base",
          "model_name": "LayoutModel",
          "model_module_version": "1.2.0",
          "state": {
            "_view_name": "LayoutView",
            "grid_template_rows": null,
            "right": null,
            "justify_content": null,
            "_view_module": "@jupyter-widgets/base",
            "overflow": null,
            "_model_module_version": "1.2.0",
            "_view_count": null,
            "flex_flow": null,
            "width": null,
            "min_width": null,
            "border": null,
            "align_items": null,
            "bottom": null,
            "_model_module": "@jupyter-widgets/base",
            "top": null,
            "grid_column": null,
            "overflow_y": null,
            "overflow_x": null,
            "grid_auto_flow": null,
            "grid_area": null,
            "grid_template_columns": null,
            "flex": null,
            "_model_name": "LayoutModel",
            "justify_items": null,
            "grid_row": null,
            "max_height": null,
            "align_content": null,
            "visibility": null,
            "align_self": null,
            "height": null,
            "min_height": null,
            "padding": null,
            "grid_auto_rows": null,
            "grid_gap": null,
            "max_width": null,
            "order": null,
            "_view_module_version": "1.2.0",
            "grid_template_areas": null,
            "object_position": null,
            "object_fit": null,
            "grid_auto_columns": null,
            "margin": null,
            "display": null,
            "left": null
          }
        },
        "c12f39fd7a12424492ce357859e65823": {
          "model_module": "@jupyter-widgets/controls",
          "model_name": "HTMLModel",
          "model_module_version": "1.5.0",
          "state": {
            "_view_name": "HTMLView",
            "style": "IPY_MODEL_9315065c32014141947d0ee6c7ec0656",
            "_dom_classes": [],
            "description": "",
            "_model_name": "HTMLModel",
            "placeholder": "​",
            "_view_module": "@jupyter-widgets/controls",
            "_model_module_version": "1.5.0",
            "value": "Batches: 100%",
            "_view_count": null,
            "_view_module_version": "1.5.0",
            "description_tooltip": null,
            "_model_module": "@jupyter-widgets/controls",
            "layout": "IPY_MODEL_3c6d46d443e846719c5f4cfadd9fcbfc"
          }
        },
        "c834a8158e534e819cbd41409d3b5ea5": {
          "model_module": "@jupyter-widgets/controls",
          "model_name": "FloatProgressModel",
          "model_module_version": "1.5.0",
          "state": {
            "_view_name": "ProgressView",
            "style": "IPY_MODEL_313fe854b353490bafbaf8684ea1e845",
            "_dom_classes": [],
            "description": "",
            "_model_name": "FloatProgressModel",
            "bar_style": "success",
            "max": 32,
            "_view_module": "@jupyter-widgets/controls",
            "_model_module_version": "1.5.0",
            "value": 32,
            "_view_count": null,
            "_view_module_version": "1.5.0",
            "orientation": "horizontal",
            "min": 0,
            "description_tooltip": null,
            "_model_module": "@jupyter-widgets/controls",
            "layout": "IPY_MODEL_0c1329312c1a4f4fa0049b53f349387b"
          }
        },
        "44b6a91bee174ba4bd986abd68c9cd85": {
          "model_module": "@jupyter-widgets/controls",
          "model_name": "HTMLModel",
          "model_module_version": "1.5.0",
          "state": {
            "_view_name": "HTMLView",
            "style": "IPY_MODEL_be424a6c4ac34f2ba18c7bd039717deb",
            "_dom_classes": [],
            "description": "",
            "_model_name": "HTMLModel",
            "placeholder": "​",
            "_view_module": "@jupyter-widgets/controls",
            "_model_module_version": "1.5.0",
            "value": " 32/32 [00:07&lt;00:00,  2.88it/s]",
            "_view_count": null,
            "_view_module_version": "1.5.0",
            "description_tooltip": null,
            "_model_module": "@jupyter-widgets/controls",
            "layout": "IPY_MODEL_416e3144fb614293a58049fb01f5d66b"
          }
        },
        "9315065c32014141947d0ee6c7ec0656": {
          "model_module": "@jupyter-widgets/controls",
          "model_name": "DescriptionStyleModel",
          "model_module_version": "1.5.0",
          "state": {
            "_view_name": "StyleView",
            "_model_name": "DescriptionStyleModel",
            "description_width": "",
            "_view_module": "@jupyter-widgets/base",
            "_model_module_version": "1.5.0",
            "_view_count": null,
            "_view_module_version": "1.2.0",
            "_model_module": "@jupyter-widgets/controls"
          }
        },
        "3c6d46d443e846719c5f4cfadd9fcbfc": {
          "model_module": "@jupyter-widgets/base",
          "model_name": "LayoutModel",
          "model_module_version": "1.2.0",
          "state": {
            "_view_name": "LayoutView",
            "grid_template_rows": null,
            "right": null,
            "justify_content": null,
            "_view_module": "@jupyter-widgets/base",
            "overflow": null,
            "_model_module_version": "1.2.0",
            "_view_count": null,
            "flex_flow": null,
            "width": null,
            "min_width": null,
            "border": null,
            "align_items": null,
            "bottom": null,
            "_model_module": "@jupyter-widgets/base",
            "top": null,
            "grid_column": null,
            "overflow_y": null,
            "overflow_x": null,
            "grid_auto_flow": null,
            "grid_area": null,
            "grid_template_columns": null,
            "flex": null,
            "_model_name": "LayoutModel",
            "justify_items": null,
            "grid_row": null,
            "max_height": null,
            "align_content": null,
            "visibility": null,
            "align_self": null,
            "height": null,
            "min_height": null,
            "padding": null,
            "grid_auto_rows": null,
            "grid_gap": null,
            "max_width": null,
            "order": null,
            "_view_module_version": "1.2.0",
            "grid_template_areas": null,
            "object_position": null,
            "object_fit": null,
            "grid_auto_columns": null,
            "margin": null,
            "display": null,
            "left": null
          }
        },
        "313fe854b353490bafbaf8684ea1e845": {
          "model_module": "@jupyter-widgets/controls",
          "model_name": "ProgressStyleModel",
          "model_module_version": "1.5.0",
          "state": {
            "_view_name": "StyleView",
            "_model_name": "ProgressStyleModel",
            "description_width": "",
            "_view_module": "@jupyter-widgets/base",
            "_model_module_version": "1.5.0",
            "_view_count": null,
            "_view_module_version": "1.2.0",
            "bar_color": null,
            "_model_module": "@jupyter-widgets/controls"
          }
        },
        "0c1329312c1a4f4fa0049b53f349387b": {
          "model_module": "@jupyter-widgets/base",
          "model_name": "LayoutModel",
          "model_module_version": "1.2.0",
          "state": {
            "_view_name": "LayoutView",
            "grid_template_rows": null,
            "right": null,
            "justify_content": null,
            "_view_module": "@jupyter-widgets/base",
            "overflow": null,
            "_model_module_version": "1.2.0",
            "_view_count": null,
            "flex_flow": null,
            "width": null,
            "min_width": null,
            "border": null,
            "align_items": null,
            "bottom": null,
            "_model_module": "@jupyter-widgets/base",
            "top": null,
            "grid_column": null,
            "overflow_y": null,
            "overflow_x": null,
            "grid_auto_flow": null,
            "grid_area": null,
            "grid_template_columns": null,
            "flex": null,
            "_model_name": "LayoutModel",
            "justify_items": null,
            "grid_row": null,
            "max_height": null,
            "align_content": null,
            "visibility": null,
            "align_self": null,
            "height": null,
            "min_height": null,
            "padding": null,
            "grid_auto_rows": null,
            "grid_gap": null,
            "max_width": null,
            "order": null,
            "_view_module_version": "1.2.0",
            "grid_template_areas": null,
            "object_position": null,
            "object_fit": null,
            "grid_auto_columns": null,
            "margin": null,
            "display": null,
            "left": null
          }
        },
        "be424a6c4ac34f2ba18c7bd039717deb": {
          "model_module": "@jupyter-widgets/controls",
          "model_name": "DescriptionStyleModel",
          "model_module_version": "1.5.0",
          "state": {
            "_view_name": "StyleView",
            "_model_name": "DescriptionStyleModel",
            "description_width": "",
            "_view_module": "@jupyter-widgets/base",
            "_model_module_version": "1.5.0",
            "_view_count": null,
            "_view_module_version": "1.2.0",
            "_model_module": "@jupyter-widgets/controls"
          }
        },
        "416e3144fb614293a58049fb01f5d66b": {
          "model_module": "@jupyter-widgets/base",
          "model_name": "LayoutModel",
          "model_module_version": "1.2.0",
          "state": {
            "_view_name": "LayoutView",
            "grid_template_rows": null,
            "right": null,
            "justify_content": null,
            "_view_module": "@jupyter-widgets/base",
            "overflow": null,
            "_model_module_version": "1.2.0",
            "_view_count": null,
            "flex_flow": null,
            "width": null,
            "min_width": null,
            "border": null,
            "align_items": null,
            "bottom": null,
            "_model_module": "@jupyter-widgets/base",
            "top": null,
            "grid_column": null,
            "overflow_y": null,
            "overflow_x": null,
            "grid_auto_flow": null,
            "grid_area": null,
            "grid_template_columns": null,
            "flex": null,
            "_model_name": "LayoutModel",
            "justify_items": null,
            "grid_row": null,
            "max_height": null,
            "align_content": null,
            "visibility": null,
            "align_self": null,
            "height": null,
            "min_height": null,
            "padding": null,
            "grid_auto_rows": null,
            "grid_gap": null,
            "max_width": null,
            "order": null,
            "_view_module_version": "1.2.0",
            "grid_template_areas": null,
            "object_position": null,
            "object_fit": null,
            "grid_auto_columns": null,
            "margin": null,
            "display": null,
            "left": null
          }
        },
        "2a22544a3cac4ff6a6bf6a3f689ef068": {
          "model_module": "@jupyter-widgets/controls",
          "model_name": "HBoxModel",
          "model_module_version": "1.5.0",
          "state": {
            "_view_name": "HBoxView",
            "_dom_classes": [],
            "_model_name": "HBoxModel",
            "_view_module": "@jupyter-widgets/controls",
            "_model_module_version": "1.5.0",
            "_view_count": null,
            "_view_module_version": "1.5.0",
            "box_style": "",
            "layout": "IPY_MODEL_e40ee9f609e84552b779225bd5a50fab",
            "_model_module": "@jupyter-widgets/controls",
            "children": [
              "IPY_MODEL_3a1276429b4d438a8404e871420856f9",
              "IPY_MODEL_a31bfebb46cd4239bdb1eab24e55b84e",
              "IPY_MODEL_1ee78a0517814f9485fca847620ae127"
            ]
          }
        },
        "e40ee9f609e84552b779225bd5a50fab": {
          "model_module": "@jupyter-widgets/base",
          "model_name": "LayoutModel",
          "model_module_version": "1.2.0",
          "state": {
            "_view_name": "LayoutView",
            "grid_template_rows": null,
            "right": null,
            "justify_content": null,
            "_view_module": "@jupyter-widgets/base",
            "overflow": null,
            "_model_module_version": "1.2.0",
            "_view_count": null,
            "flex_flow": null,
            "width": null,
            "min_width": null,
            "border": null,
            "align_items": null,
            "bottom": null,
            "_model_module": "@jupyter-widgets/base",
            "top": null,
            "grid_column": null,
            "overflow_y": null,
            "overflow_x": null,
            "grid_auto_flow": null,
            "grid_area": null,
            "grid_template_columns": null,
            "flex": null,
            "_model_name": "LayoutModel",
            "justify_items": null,
            "grid_row": null,
            "max_height": null,
            "align_content": null,
            "visibility": null,
            "align_self": null,
            "height": null,
            "min_height": null,
            "padding": null,
            "grid_auto_rows": null,
            "grid_gap": null,
            "max_width": null,
            "order": null,
            "_view_module_version": "1.2.0",
            "grid_template_areas": null,
            "object_position": null,
            "object_fit": null,
            "grid_auto_columns": null,
            "margin": null,
            "display": null,
            "left": null
          }
        },
        "3a1276429b4d438a8404e871420856f9": {
          "model_module": "@jupyter-widgets/controls",
          "model_name": "HTMLModel",
          "model_module_version": "1.5.0",
          "state": {
            "_view_name": "HTMLView",
            "style": "IPY_MODEL_b69d89f686f04edaa729afdf31b07ea7",
            "_dom_classes": [],
            "description": "",
            "_model_name": "HTMLModel",
            "placeholder": "​",
            "_view_module": "@jupyter-widgets/controls",
            "_model_module_version": "1.5.0",
            "value": "Batches: 100%",
            "_view_count": null,
            "_view_module_version": "1.5.0",
            "description_tooltip": null,
            "_model_module": "@jupyter-widgets/controls",
            "layout": "IPY_MODEL_ab3489c9712c4f9cbc679d096d5d31a0"
          }
        },
        "a31bfebb46cd4239bdb1eab24e55b84e": {
          "model_module": "@jupyter-widgets/controls",
          "model_name": "FloatProgressModel",
          "model_module_version": "1.5.0",
          "state": {
            "_view_name": "ProgressView",
            "style": "IPY_MODEL_03757dc9aaac47aab448f6ee378693f4",
            "_dom_classes": [],
            "description": "",
            "_model_name": "FloatProgressModel",
            "bar_style": "success",
            "max": 64,
            "_view_module": "@jupyter-widgets/controls",
            "_model_module_version": "1.5.0",
            "value": 64,
            "_view_count": null,
            "_view_module_version": "1.5.0",
            "orientation": "horizontal",
            "min": 0,
            "description_tooltip": null,
            "_model_module": "@jupyter-widgets/controls",
            "layout": "IPY_MODEL_b770a33b5a7d474b9324aec2e716b384"
          }
        },
        "1ee78a0517814f9485fca847620ae127": {
          "model_module": "@jupyter-widgets/controls",
          "model_name": "HTMLModel",
          "model_module_version": "1.5.0",
          "state": {
            "_view_name": "HTMLView",
            "style": "IPY_MODEL_1bffbe048ed24a2db95a2fa0851c3e1d",
            "_dom_classes": [],
            "description": "",
            "_model_name": "HTMLModel",
            "placeholder": "​",
            "_view_module": "@jupyter-widgets/controls",
            "_model_module_version": "1.5.0",
            "value": " 64/64 [00:14&lt;00:00,  2.99it/s]",
            "_view_count": null,
            "_view_module_version": "1.5.0",
            "description_tooltip": null,
            "_model_module": "@jupyter-widgets/controls",
            "layout": "IPY_MODEL_2a66aecca5324157acb90ebbf1218a86"
          }
        },
        "b69d89f686f04edaa729afdf31b07ea7": {
          "model_module": "@jupyter-widgets/controls",
          "model_name": "DescriptionStyleModel",
          "model_module_version": "1.5.0",
          "state": {
            "_view_name": "StyleView",
            "_model_name": "DescriptionStyleModel",
            "description_width": "",
            "_view_module": "@jupyter-widgets/base",
            "_model_module_version": "1.5.0",
            "_view_count": null,
            "_view_module_version": "1.2.0",
            "_model_module": "@jupyter-widgets/controls"
          }
        },
        "ab3489c9712c4f9cbc679d096d5d31a0": {
          "model_module": "@jupyter-widgets/base",
          "model_name": "LayoutModel",
          "model_module_version": "1.2.0",
          "state": {
            "_view_name": "LayoutView",
            "grid_template_rows": null,
            "right": null,
            "justify_content": null,
            "_view_module": "@jupyter-widgets/base",
            "overflow": null,
            "_model_module_version": "1.2.0",
            "_view_count": null,
            "flex_flow": null,
            "width": null,
            "min_width": null,
            "border": null,
            "align_items": null,
            "bottom": null,
            "_model_module": "@jupyter-widgets/base",
            "top": null,
            "grid_column": null,
            "overflow_y": null,
            "overflow_x": null,
            "grid_auto_flow": null,
            "grid_area": null,
            "grid_template_columns": null,
            "flex": null,
            "_model_name": "LayoutModel",
            "justify_items": null,
            "grid_row": null,
            "max_height": null,
            "align_content": null,
            "visibility": null,
            "align_self": null,
            "height": null,
            "min_height": null,
            "padding": null,
            "grid_auto_rows": null,
            "grid_gap": null,
            "max_width": null,
            "order": null,
            "_view_module_version": "1.2.0",
            "grid_template_areas": null,
            "object_position": null,
            "object_fit": null,
            "grid_auto_columns": null,
            "margin": null,
            "display": null,
            "left": null
          }
        },
        "03757dc9aaac47aab448f6ee378693f4": {
          "model_module": "@jupyter-widgets/controls",
          "model_name": "ProgressStyleModel",
          "model_module_version": "1.5.0",
          "state": {
            "_view_name": "StyleView",
            "_model_name": "ProgressStyleModel",
            "description_width": "",
            "_view_module": "@jupyter-widgets/base",
            "_model_module_version": "1.5.0",
            "_view_count": null,
            "_view_module_version": "1.2.0",
            "bar_color": null,
            "_model_module": "@jupyter-widgets/controls"
          }
        },
        "b770a33b5a7d474b9324aec2e716b384": {
          "model_module": "@jupyter-widgets/base",
          "model_name": "LayoutModel",
          "model_module_version": "1.2.0",
          "state": {
            "_view_name": "LayoutView",
            "grid_template_rows": null,
            "right": null,
            "justify_content": null,
            "_view_module": "@jupyter-widgets/base",
            "overflow": null,
            "_model_module_version": "1.2.0",
            "_view_count": null,
            "flex_flow": null,
            "width": null,
            "min_width": null,
            "border": null,
            "align_items": null,
            "bottom": null,
            "_model_module": "@jupyter-widgets/base",
            "top": null,
            "grid_column": null,
            "overflow_y": null,
            "overflow_x": null,
            "grid_auto_flow": null,
            "grid_area": null,
            "grid_template_columns": null,
            "flex": null,
            "_model_name": "LayoutModel",
            "justify_items": null,
            "grid_row": null,
            "max_height": null,
            "align_content": null,
            "visibility": null,
            "align_self": null,
            "height": null,
            "min_height": null,
            "padding": null,
            "grid_auto_rows": null,
            "grid_gap": null,
            "max_width": null,
            "order": null,
            "_view_module_version": "1.2.0",
            "grid_template_areas": null,
            "object_position": null,
            "object_fit": null,
            "grid_auto_columns": null,
            "margin": null,
            "display": null,
            "left": null
          }
        },
        "1bffbe048ed24a2db95a2fa0851c3e1d": {
          "model_module": "@jupyter-widgets/controls",
          "model_name": "DescriptionStyleModel",
          "model_module_version": "1.5.0",
          "state": {
            "_view_name": "StyleView",
            "_model_name": "DescriptionStyleModel",
            "description_width": "",
            "_view_module": "@jupyter-widgets/base",
            "_model_module_version": "1.5.0",
            "_view_count": null,
            "_view_module_version": "1.2.0",
            "_model_module": "@jupyter-widgets/controls"
          }
        },
        "2a66aecca5324157acb90ebbf1218a86": {
          "model_module": "@jupyter-widgets/base",
          "model_name": "LayoutModel",
          "model_module_version": "1.2.0",
          "state": {
            "_view_name": "LayoutView",
            "grid_template_rows": null,
            "right": null,
            "justify_content": null,
            "_view_module": "@jupyter-widgets/base",
            "overflow": null,
            "_model_module_version": "1.2.0",
            "_view_count": null,
            "flex_flow": null,
            "width": null,
            "min_width": null,
            "border": null,
            "align_items": null,
            "bottom": null,
            "_model_module": "@jupyter-widgets/base",
            "top": null,
            "grid_column": null,
            "overflow_y": null,
            "overflow_x": null,
            "grid_auto_flow": null,
            "grid_area": null,
            "grid_template_columns": null,
            "flex": null,
            "_model_name": "LayoutModel",
            "justify_items": null,
            "grid_row": null,
            "max_height": null,
            "align_content": null,
            "visibility": null,
            "align_self": null,
            "height": null,
            "min_height": null,
            "padding": null,
            "grid_auto_rows": null,
            "grid_gap": null,
            "max_width": null,
            "order": null,
            "_view_module_version": "1.2.0",
            "grid_template_areas": null,
            "object_position": null,
            "object_fit": null,
            "grid_auto_columns": null,
            "margin": null,
            "display": null,
            "left": null
          }
        },
        "14055104020f43d59df49976a2addab7": {
          "model_module": "@jupyter-widgets/controls",
          "model_name": "HBoxModel",
          "model_module_version": "1.5.0",
          "state": {
            "_view_name": "HBoxView",
            "_dom_classes": [],
            "_model_name": "HBoxModel",
            "_view_module": "@jupyter-widgets/controls",
            "_model_module_version": "1.5.0",
            "_view_count": null,
            "_view_module_version": "1.5.0",
            "box_style": "",
            "layout": "IPY_MODEL_e95227601627486394f7fe2950f587cb",
            "_model_module": "@jupyter-widgets/controls",
            "children": [
              "IPY_MODEL_0ba0e6ff92574e2da16eac0113b7deb8",
              "IPY_MODEL_f0f36ba2ee5b4a3b977a17201baa08d6",
              "IPY_MODEL_aadce36d05524572b9141b22676d36b4"
            ]
          }
        },
        "e95227601627486394f7fe2950f587cb": {
          "model_module": "@jupyter-widgets/base",
          "model_name": "LayoutModel",
          "model_module_version": "1.2.0",
          "state": {
            "_view_name": "LayoutView",
            "grid_template_rows": null,
            "right": null,
            "justify_content": null,
            "_view_module": "@jupyter-widgets/base",
            "overflow": null,
            "_model_module_version": "1.2.0",
            "_view_count": null,
            "flex_flow": null,
            "width": null,
            "min_width": null,
            "border": null,
            "align_items": null,
            "bottom": null,
            "_model_module": "@jupyter-widgets/base",
            "top": null,
            "grid_column": null,
            "overflow_y": null,
            "overflow_x": null,
            "grid_auto_flow": null,
            "grid_area": null,
            "grid_template_columns": null,
            "flex": null,
            "_model_name": "LayoutModel",
            "justify_items": null,
            "grid_row": null,
            "max_height": null,
            "align_content": null,
            "visibility": null,
            "align_self": null,
            "height": null,
            "min_height": null,
            "padding": null,
            "grid_auto_rows": null,
            "grid_gap": null,
            "max_width": null,
            "order": null,
            "_view_module_version": "1.2.0",
            "grid_template_areas": null,
            "object_position": null,
            "object_fit": null,
            "grid_auto_columns": null,
            "margin": null,
            "display": null,
            "left": null
          }
        },
        "0ba0e6ff92574e2da16eac0113b7deb8": {
          "model_module": "@jupyter-widgets/controls",
          "model_name": "HTMLModel",
          "model_module_version": "1.5.0",
          "state": {
            "_view_name": "HTMLView",
            "style": "IPY_MODEL_f8220b70946840a29329fa511b8b3cb4",
            "_dom_classes": [],
            "description": "",
            "_model_name": "HTMLModel",
            "placeholder": "​",
            "_view_module": "@jupyter-widgets/controls",
            "_model_module_version": "1.5.0",
            "value": "Batches: 100%",
            "_view_count": null,
            "_view_module_version": "1.5.0",
            "description_tooltip": null,
            "_model_module": "@jupyter-widgets/controls",
            "layout": "IPY_MODEL_051507c9857546aab4b3e693e4fcb35b"
          }
        },
        "f0f36ba2ee5b4a3b977a17201baa08d6": {
          "model_module": "@jupyter-widgets/controls",
          "model_name": "FloatProgressModel",
          "model_module_version": "1.5.0",
          "state": {
            "_view_name": "ProgressView",
            "style": "IPY_MODEL_351c8825f1c84f7681addd61d0f4b038",
            "_dom_classes": [],
            "description": "",
            "_model_name": "FloatProgressModel",
            "bar_style": "success",
            "max": 314,
            "_view_module": "@jupyter-widgets/controls",
            "_model_module_version": "1.5.0",
            "value": 314,
            "_view_count": null,
            "_view_module_version": "1.5.0",
            "orientation": "horizontal",
            "min": 0,
            "description_tooltip": null,
            "_model_module": "@jupyter-widgets/controls",
            "layout": "IPY_MODEL_d9ffa6a4adaa40dfbcdced985d51f498"
          }
        },
        "aadce36d05524572b9141b22676d36b4": {
          "model_module": "@jupyter-widgets/controls",
          "model_name": "HTMLModel",
          "model_module_version": "1.5.0",
          "state": {
            "_view_name": "HTMLView",
            "style": "IPY_MODEL_1c5098055e094a5f81ab35893c7c7c52",
            "_dom_classes": [],
            "description": "",
            "_model_name": "HTMLModel",
            "placeholder": "​",
            "_view_module": "@jupyter-widgets/controls",
            "_model_module_version": "1.5.0",
            "value": " 314/314 [01:07&lt;00:00,  2.28it/s]",
            "_view_count": null,
            "_view_module_version": "1.5.0",
            "description_tooltip": null,
            "_model_module": "@jupyter-widgets/controls",
            "layout": "IPY_MODEL_e4c30977b86341f7a1387b033b19ace2"
          }
        },
        "f8220b70946840a29329fa511b8b3cb4": {
          "model_module": "@jupyter-widgets/controls",
          "model_name": "DescriptionStyleModel",
          "model_module_version": "1.5.0",
          "state": {
            "_view_name": "StyleView",
            "_model_name": "DescriptionStyleModel",
            "description_width": "",
            "_view_module": "@jupyter-widgets/base",
            "_model_module_version": "1.5.0",
            "_view_count": null,
            "_view_module_version": "1.2.0",
            "_model_module": "@jupyter-widgets/controls"
          }
        },
        "051507c9857546aab4b3e693e4fcb35b": {
          "model_module": "@jupyter-widgets/base",
          "model_name": "LayoutModel",
          "model_module_version": "1.2.0",
          "state": {
            "_view_name": "LayoutView",
            "grid_template_rows": null,
            "right": null,
            "justify_content": null,
            "_view_module": "@jupyter-widgets/base",
            "overflow": null,
            "_model_module_version": "1.2.0",
            "_view_count": null,
            "flex_flow": null,
            "width": null,
            "min_width": null,
            "border": null,
            "align_items": null,
            "bottom": null,
            "_model_module": "@jupyter-widgets/base",
            "top": null,
            "grid_column": null,
            "overflow_y": null,
            "overflow_x": null,
            "grid_auto_flow": null,
            "grid_area": null,
            "grid_template_columns": null,
            "flex": null,
            "_model_name": "LayoutModel",
            "justify_items": null,
            "grid_row": null,
            "max_height": null,
            "align_content": null,
            "visibility": null,
            "align_self": null,
            "height": null,
            "min_height": null,
            "padding": null,
            "grid_auto_rows": null,
            "grid_gap": null,
            "max_width": null,
            "order": null,
            "_view_module_version": "1.2.0",
            "grid_template_areas": null,
            "object_position": null,
            "object_fit": null,
            "grid_auto_columns": null,
            "margin": null,
            "display": null,
            "left": null
          }
        },
        "351c8825f1c84f7681addd61d0f4b038": {
          "model_module": "@jupyter-widgets/controls",
          "model_name": "ProgressStyleModel",
          "model_module_version": "1.5.0",
          "state": {
            "_view_name": "StyleView",
            "_model_name": "ProgressStyleModel",
            "description_width": "",
            "_view_module": "@jupyter-widgets/base",
            "_model_module_version": "1.5.0",
            "_view_count": null,
            "_view_module_version": "1.2.0",
            "bar_color": null,
            "_model_module": "@jupyter-widgets/controls"
          }
        },
        "d9ffa6a4adaa40dfbcdced985d51f498": {
          "model_module": "@jupyter-widgets/base",
          "model_name": "LayoutModel",
          "model_module_version": "1.2.0",
          "state": {
            "_view_name": "LayoutView",
            "grid_template_rows": null,
            "right": null,
            "justify_content": null,
            "_view_module": "@jupyter-widgets/base",
            "overflow": null,
            "_model_module_version": "1.2.0",
            "_view_count": null,
            "flex_flow": null,
            "width": null,
            "min_width": null,
            "border": null,
            "align_items": null,
            "bottom": null,
            "_model_module": "@jupyter-widgets/base",
            "top": null,
            "grid_column": null,
            "overflow_y": null,
            "overflow_x": null,
            "grid_auto_flow": null,
            "grid_area": null,
            "grid_template_columns": null,
            "flex": null,
            "_model_name": "LayoutModel",
            "justify_items": null,
            "grid_row": null,
            "max_height": null,
            "align_content": null,
            "visibility": null,
            "align_self": null,
            "height": null,
            "min_height": null,
            "padding": null,
            "grid_auto_rows": null,
            "grid_gap": null,
            "max_width": null,
            "order": null,
            "_view_module_version": "1.2.0",
            "grid_template_areas": null,
            "object_position": null,
            "object_fit": null,
            "grid_auto_columns": null,
            "margin": null,
            "display": null,
            "left": null
          }
        },
        "1c5098055e094a5f81ab35893c7c7c52": {
          "model_module": "@jupyter-widgets/controls",
          "model_name": "DescriptionStyleModel",
          "model_module_version": "1.5.0",
          "state": {
            "_view_name": "StyleView",
            "_model_name": "DescriptionStyleModel",
            "description_width": "",
            "_view_module": "@jupyter-widgets/base",
            "_model_module_version": "1.5.0",
            "_view_count": null,
            "_view_module_version": "1.2.0",
            "_model_module": "@jupyter-widgets/controls"
          }
        },
        "e4c30977b86341f7a1387b033b19ace2": {
          "model_module": "@jupyter-widgets/base",
          "model_name": "LayoutModel",
          "model_module_version": "1.2.0",
          "state": {
            "_view_name": "LayoutView",
            "grid_template_rows": null,
            "right": null,
            "justify_content": null,
            "_view_module": "@jupyter-widgets/base",
            "overflow": null,
            "_model_module_version": "1.2.0",
            "_view_count": null,
            "flex_flow": null,
            "width": null,
            "min_width": null,
            "border": null,
            "align_items": null,
            "bottom": null,
            "_model_module": "@jupyter-widgets/base",
            "top": null,
            "grid_column": null,
            "overflow_y": null,
            "overflow_x": null,
            "grid_auto_flow": null,
            "grid_area": null,
            "grid_template_columns": null,
            "flex": null,
            "_model_name": "LayoutModel",
            "justify_items": null,
            "grid_row": null,
            "max_height": null,
            "align_content": null,
            "visibility": null,
            "align_self": null,
            "height": null,
            "min_height": null,
            "padding": null,
            "grid_auto_rows": null,
            "grid_gap": null,
            "max_width": null,
            "order": null,
            "_view_module_version": "1.2.0",
            "grid_template_areas": null,
            "object_position": null,
            "object_fit": null,
            "grid_auto_columns": null,
            "margin": null,
            "display": null,
            "left": null
          }
        }
      }
    }
  },
  "cells": [
    {
      "cell_type": "markdown",
      "metadata": {
        "id": "view-in-github",
        "colab_type": "text"
      },
      "source": [
        "<a href=\"https://colab.research.google.com/github/Chuck2Win/KoSentenceBERT_SKT/blob/main/SBERT_%EC%9E%90%EB%A7%89.ipynb\" target=\"_parent\"><img src=\"https://colab.research.google.com/assets/colab-badge.svg\" alt=\"Open In Colab\"/></a>"
      ]
    },
    {
      "cell_type": "markdown",
      "metadata": {
        "id": "kEoMmyKt-sHK"
      },
      "source": [
        "# Model 설치 및 import -> 결국 기존 colab note에 저장하는 식으로 해도 됨."
      ]
    },
    {
      "cell_type": "code",
      "metadata": {
        "colab": {
          "base_uri": "https://localhost:8080/"
        },
        "id": "udpbcbbiPLHL",
        "outputId": "10832f9f-416c-4371-cfde-83c8b98b22e6"
      },
      "source": [
        "import os, sys\n",
        "from google.colab import drive\n",
        "drive.mount('/content/drive')\n",
        "\n",
        "my_path = '/content/notebooks'\n",
        "# Colab Notebooks 안에 my_env 폴더에 패키지 저장\n",
        "os.symlink('/content/drive/My Drive/KoBERT', my_path)\n",
        "sys.path.insert(0, my_path) # my path 안의 파일들을 간단하게 import\n"
      ],
      "execution_count": null,
      "outputs": [
        {
          "output_type": "stream",
          "name": "stdout",
          "text": [
            "Mounted at /content/drive\n",
            "\u001b[31mERROR: Could not open requirements file: [Errno 2] No such file or directory: 'requirements.txt'\u001b[0m\n"
          ]
        }
      ]
    },
    {
      "cell_type": "code",
      "metadata": {
        "colab": {
          "base_uri": "https://localhost:8080/"
        },
        "id": "_qo98Y31PwlD",
        "outputId": "31871791-4c47-47ac-ad9f-a54db01c70e4"
      },
      "source": [
        "cd drive/MyDrive/KoBERT"
      ],
      "execution_count": null,
      "outputs": [
        {
          "output_type": "stream",
          "name": "stdout",
          "text": [
            "/content/drive/MyDrive/KoBERT\n"
          ]
        }
      ]
    },
    {
      "cell_type": "code",
      "metadata": {
        "id": "3lwPJUeHPvU_"
      },
      "source": [
        "! pip install -r requirements.txt --target=$my_path\n",
        "# git clone 같은 경우엔 Colab Notebooks/my_env안에 설치해줌."
      ],
      "execution_count": null,
      "outputs": []
    },
    {
      "cell_type": "code",
      "metadata": {
        "id": "0FGGxLMKQg-g"
      },
      "source": [
        "! pip install . --target=$my_path"
      ],
      "execution_count": null,
      "outputs": []
    },
    {
      "cell_type": "code",
      "metadata": {
        "colab": {
          "base_uri": "https://localhost:8080/",
          "height": 35
        },
        "id": "qhnhLCzjXRUU",
        "outputId": "ac6447f1-5988-4690-ed08-f3268bc98641"
      },
      "source": [
        ""
      ],
      "execution_count": null,
      "outputs": [
        {
          "output_type": "execute_result",
          "data": {
            "application/vnd.google.colaboratory.intrinsic+json": {
              "type": "string"
            },
            "text/plain": [
              "'/content'"
            ]
          },
          "metadata": {},
          "execution_count": 5
        }
      ]
    },
    {
      "cell_type": "code",
      "metadata": {
        "colab": {
          "base_uri": "https://localhost:8080/"
        },
        "id": "OvYb5hps3HnC",
        "outputId": "3866a08a-3732-4bdd-eb7a-ee84c4c72619"
      },
      "source": [
        "import os,sys\n",
        "from google.colab import drive\n",
        "my_path = '/content/notebooks'\n",
        "# Colab Notebooks 안에 my_env 폴더에 패키지 저장\n",
        "os.symlink('/content/drive/My Drive/KoBERT', my_path)\n",
        "sys.path.insert(0, my_path) # my path 안의 파일들을 간단하게 import\n",
        "sys.path.insert(0,'/content/drive/MyDrive/KoSentenceBERT_SKTBERT')\n",
        "drive.mount('/content/drive')"
      ],
      "execution_count": null,
      "outputs": [
        {
          "output_type": "stream",
          "name": "stdout",
          "text": [
            "Mounted at /content/drive\n"
          ]
        }
      ]
    },
    {
      "cell_type": "markdown",
      "metadata": {
        "id": "wDFBAL3m-ubN"
      },
      "source": [
        "# 활용"
      ]
    },
    {
      "cell_type": "code",
      "metadata": {
        "colab": {
          "base_uri": "https://localhost:8080/"
        },
        "id": "05VpbBs7rCR6",
        "outputId": "ddeaff3b-266e-45ab-a69a-442cd233f955"
      },
      "source": [
        "import os, sys\n",
        "from google.colab import drive\n",
        "from tqdm import tqdm\n",
        "drive.mount('/content/drive')\n",
        "my_path = '/content/notebooks'\n",
        "# Colab Notebooks 안에 my_env 폴더에 패키지 저장\n",
        "os.symlink('/content/drive/My Drive/KoBERT', my_path)\n",
        "sys.path.insert(0, my_path) # my path 안의  파일들을 간단하게 import\n",
        "sys.path.insert(0,'/content/drive/My Drive/KoSentenceBERT_SKTBERT')"
      ],
      "execution_count": 1,
      "outputs": [
        {
          "output_type": "stream",
          "name": "stdout",
          "text": [
            "Mounted at /content/drive\n"
          ]
        }
      ]
    },
    {
      "cell_type": "code",
      "metadata": {
        "id": "C7hWsDhe5WvJ"
      },
      "source": [
        "from sentence_transformers import SentenceTransformer,  SentencesDataset, LoggingHandler, losses, models, util"
      ],
      "execution_count": 2,
      "outputs": []
    },
    {
      "cell_type": "code",
      "metadata": {
        "colab": {
          "base_uri": "https://localhost:8080/"
        },
        "id": "r4Z8LqxZ8Fru",
        "outputId": "5250e1a3-2e5c-4ef3-e527-273a84a3682c"
      },
      "source": [
        "model_name = '/content/drive/MyDrive/KoSentenceBERT_SKTBERT/output/training_sts/'\n",
        "\n",
        "word_embedding_model = models.Transformer(model_name, isKor=True, isLoad=True)\n",
        "\n",
        "# Apply mean pooling to get one fixed sized sentence vector\n",
        "pooling_model = models.Pooling(word_embedding_model.get_word_embedding_dimension(),\n",
        "                               pooling_mode_mean_tokens=True,\n",
        "                               pooling_mode_cls_token=False,\n",
        "                               pooling_mode_max_tokens=False)\n",
        "\n",
        "model = SentenceTransformer(modules=[word_embedding_model, pooling_model])"
      ],
      "execution_count": 3,
      "outputs": [
        {
          "output_type": "stream",
          "name": "stdout",
          "text": [
            "[██████████████████████████████████████████████████]\n",
            "[██████████████████████████████████████████████████]\n",
            "using cached model\n",
            "Load Model\n"
          ]
        }
      ]
    },
    {
      "cell_type": "code",
      "metadata": {
        "id": "s4MLfwRBGpfB"
      },
      "source": [
        "import re"
      ],
      "execution_count": 4,
      "outputs": []
    },
    {
      "cell_type": "markdown",
      "metadata": {
        "id": "RLhfm9hoAGuA"
      },
      "source": [
        "# 자막 데이터 불러오기"
      ]
    },
    {
      "cell_type": "code",
      "metadata": {
        "colab": {
          "base_uri": "https://localhost:8080/"
        },
        "id": "lxJ0DFjIvu_h",
        "outputId": "89cafe3a-e49a-4f16-d915-dd8eb2a1ec49"
      },
      "source": [
        "cd drive//MyDrive/gom/preprocessed_data"
      ],
      "execution_count": 5,
      "outputs": [
        {
          "output_type": "stream",
          "name": "stdout",
          "text": [
            "/content/drive/MyDrive/gom/preprocessed_data\n"
          ]
        }
      ]
    },
    {
      "cell_type": "code",
      "metadata": {
        "id": "gl_qRXLmAZ1V"
      },
      "source": [
        "data=os.listdir()"
      ],
      "execution_count": 8,
      "outputs": []
    },
    {
      "cell_type": "code",
      "metadata": {
        "id": "vR0fXLjx88A1"
      },
      "source": [
        ""
      ],
      "execution_count": null,
      "outputs": []
    },
    {
      "cell_type": "code",
      "metadata": {
        "colab": {
          "base_uri": "https://localhost:8080/"
        },
        "id": "QaO9mnuE6Sit",
        "outputId": "27bf2519-8ab0-4101-e59f-930dff245e55"
      },
      "source": [
        "cd similar"
      ],
      "execution_count": 9,
      "outputs": [
        {
          "output_type": "stream",
          "name": "stdout",
          "text": [
            "/content/drive/My Drive/gom/preprocessed_data/similar\n"
          ]
        }
      ]
    },
    {
      "cell_type": "code",
      "metadata": {
        "id": "8Qs38vsTAdyh"
      },
      "source": [
        "data_sim = os.listdir()"
      ],
      "execution_count": 11,
      "outputs": []
    },
    {
      "cell_type": "code",
      "metadata": {
        "colab": {
          "base_uri": "https://localhost:8080/"
        },
        "id": "-I_dRlC-6TpS",
        "outputId": "d302cb72-547f-430e-d0f5-9ebedc69ef31"
      },
      "source": [
        "cd .."
      ],
      "execution_count": 12,
      "outputs": [
        {
          "output_type": "stream",
          "name": "stdout",
          "text": [
            "/content/drive/My Drive/gom/preprocessed_data\n"
          ]
        }
      ]
    },
    {
      "cell_type": "code",
      "metadata": {
        "id": "msLkyuPKAIKr"
      },
      "source": [
        "gom = [i for i in data if i.endswith('txt')]\n",
        "gom_sim = [i for i in data_sim if i.endswith('txt')]"
      ],
      "execution_count": 13,
      "outputs": []
    },
    {
      "cell_type": "markdown",
      "metadata": {
        "id": "P6Xvru3oeVNH"
      },
      "source": [
        "## Memo\n",
        "실험 과정 - 100, 200, 1000"
      ]
    },
    {
      "cell_type": "markdown",
      "metadata": {
        "id": "D2JhwZYfAw7K"
      },
      "source": [
        "## 100"
      ]
    },
    {
      "cell_type": "code",
      "metadata": {
        "colab": {
          "base_uri": "https://localhost:8080/"
        },
        "id": "q-4ZHouvwvqb",
        "outputId": "d8fdfefe-53bb-4d26-f4cf-67a471b390f6"
      },
      "source": [
        "Gom_sim=[]\n",
        "for i in tqdm(gom_sim):\n",
        "    f = open(os.path.join('similar',i),'r',encoding='utf-8')\n",
        "    d = f.readlines() \n",
        "    dd = ''.join(d).replace('\\n',' ').strip()\n",
        "    Gom_sim.append(dd)"
      ],
      "execution_count": null,
      "outputs": [
        {
          "output_type": "stream",
          "name": "stderr",
          "text": [
            "100%|██████████| 23/23 [00:06<00:00,  3.54it/s]\n"
          ]
        }
      ]
    },
    {
      "cell_type": "code",
      "metadata": {
        "id": "UE6bufsQFboo"
      },
      "source": [
        "def read_by_num(num):\n",
        "    gom_100 = gom[:num]\n",
        "    Gom_100 = []\n",
        "    for i in tqdm(gom_100):\n",
        "        f = open(i,'r',encoding='utf-8')\n",
        "        d = f.readlines()  \n",
        "        dd = ''.join(d).replace('\\n',' ').strip()\n",
        "        Gom_100.append(dd)\n",
        "    return Gom_100,gom_100"
      ],
      "execution_count": 15,
      "outputs": []
    },
    {
      "cell_type": "code",
      "metadata": {
        "id": "BvNivum5GrDf",
        "colab": {
          "base_uri": "https://localhost:8080/"
        },
        "outputId": "783df71a-27b4-4f04-82c1-2ee5436f8742"
      },
      "source": [
        "Gom_100,gom_100 = read_by_num(100)"
      ],
      "execution_count": null,
      "outputs": [
        {
          "output_type": "stream",
          "name": "stderr",
          "text": [
            "100%|██████████| 100/100 [00:00<00:00, 1310.79it/s]\n"
          ]
        }
      ]
    },
    {
      "cell_type": "markdown",
      "metadata": {
        "id": "5x3CFyraFRTG"
      },
      "source": [
        "## 200"
      ]
    },
    {
      "cell_type": "code",
      "metadata": {
        "colab": {
          "base_uri": "https://localhost:8080/"
        },
        "id": "PfH8fXlDFYQP",
        "outputId": "ca506209-16f2-4712-efbf-11a0110d5765"
      },
      "source": [
        "Gom_200,gom_200 = read_by_num(200)"
      ],
      "execution_count": null,
      "outputs": [
        {
          "output_type": "stream",
          "name": "stderr",
          "text": [
            "100%|██████████| 200/200 [00:27<00:00,  7.38it/s]\n"
          ]
        }
      ]
    },
    {
      "cell_type": "markdown",
      "metadata": {
        "id": "tQGynionFTw_"
      },
      "source": [
        "## 1000"
      ]
    },
    {
      "cell_type": "code",
      "metadata": {
        "colab": {
          "base_uri": "https://localhost:8080/"
        },
        "id": "nJSqo1nXSLDT",
        "outputId": "0110bb2a-cff3-4003-ffd5-76b84e330f1a"
      },
      "source": [
        "180+34"
      ],
      "execution_count": null,
      "outputs": [
        {
          "output_type": "execute_result",
          "data": {
            "text/plain": [
              "214"
            ]
          },
          "metadata": {},
          "execution_count": 78
        }
      ]
    },
    {
      "cell_type": "code",
      "metadata": {
        "colab": {
          "base_uri": "https://localhost:8080/"
        },
        "id": "MT0w0cGEFtz5",
        "outputId": "82358285-3fdf-4737-f2d8-653b347da97f"
      },
      "source": [
        "Gom_1000,gom_1000 = read_by_num(1000)"
      ],
      "execution_count": null,
      "outputs": [
        {
          "output_type": "stream",
          "name": "stderr",
          "text": [
            "100%|██████████| 1000/1000 [03:34<00:00,  4.67it/s]\n"
          ]
        }
      ]
    },
    {
      "cell_type": "markdown",
      "metadata": {
        "id": "g1Z9ISQAFWKA"
      },
      "source": [
        "## 2000"
      ]
    },
    {
      "cell_type": "code",
      "metadata": {
        "colab": {
          "base_uri": "https://localhost:8080/"
        },
        "id": "Xzn2tRsDGVz4",
        "outputId": "4a5a4ea9-2b9b-4457-c219-f28e397bd007"
      },
      "source": [
        "Gom_2000,gom_2000 = read_by_num(2000)"
      ],
      "execution_count": null,
      "outputs": [
        {
          "output_type": "stream",
          "name": "stderr",
          "text": [
            "100%|██████████| 2000/2000 [00:01<00:00, 1342.11it/s]\n"
          ]
        }
      ]
    },
    {
      "cell_type": "markdown",
      "metadata": {
        "id": "SrNHPewLKF_p"
      },
      "source": [
        "# 10000"
      ]
    },
    {
      "cell_type": "code",
      "metadata": {
        "colab": {
          "base_uri": "https://localhost:8080/"
        },
        "id": "DPg5vQfCSPtg",
        "outputId": "39fe2b50-cc87-41a0-e084-e7b3ca064c8a"
      },
      "source": [
        "31*60+38"
      ],
      "execution_count": null,
      "outputs": [
        {
          "output_type": "execute_result",
          "data": {
            "text/plain": [
              "1898"
            ]
          },
          "metadata": {},
          "execution_count": 79
        }
      ]
    },
    {
      "cell_type": "code",
      "metadata": {
        "colab": {
          "base_uri": "https://localhost:8080/"
        },
        "id": "JJqaz9m7KHrG",
        "outputId": "c302462f-8658-4126-f057-05e20a2bbbe6"
      },
      "source": [
        "Gom_10000,gom_10000 = read_by_num(10000)"
      ],
      "execution_count": null,
      "outputs": [
        {
          "output_type": "stream",
          "name": "stderr",
          "text": [
            "  3%|▎         | 268/10000 [01:01<37:11,  4.36it/s]"
          ]
        }
      ]
    },
    {
      "cell_type": "code",
      "metadata": {
        "id": "l3ea_E_9EPLc"
      },
      "source": [
        "def check_time(full_sentences, names):\n",
        "    import time\n",
        "    now = time.time()\n",
        "    # N\n",
        "    corpus_embeddings = model.encode(full_sentences, convert_to_tensor=True, show_progress_bar=True, is_pretokenized = False, num_workers=4)\n",
        "    delta1 = time.time()-now\n",
        "    # N**2D**2\n",
        "    now = time.time()\n",
        "    for _,(query,name) in enumerate(zip(corpus_embeddings,names)):\n",
        "        # 모든 문장과의 cosine similarity 계산 \n",
        "        # 시간복잡도 ND**2 -> 최종적으로 N**2 D**2\n",
        "        cos_scores = util.pytorch_cos_sim(query, corpus_embeddings_100)[0]\n",
        "    delta2 = time.time()-now\n",
        "    return f'embedding time : {delta1} cosine_cal time : {delta2}'"
      ],
      "execution_count": 14,
      "outputs": []
    },
    {
      "cell_type": "code",
      "metadata": {
        "colab": {
          "base_uri": "https://localhost:8080/",
          "height": 267,
          "referenced_widgets": [
            "df087d545f4849c28f6350d25675fc47",
            "6f847ea4c9de4ac1aa69905d0748f3de",
            "4ad7efbf83e04a3ab0e63b0ada4742d7",
            "0b268c5caaec4d9cbffd7115e43dae77",
            "63a6bb4e5dd74f8f9d2319652aec51d9",
            "075c2fcf8c9f413abc47e7d78fe4a530",
            "f619006c95ad4a568c823e56bb66ab95",
            "1d4bd8eab238455caa20ec805c21a8c5",
            "1123b8f8f89a4945be626c762b93e0cf",
            "f15a193de5384c25806ee56feacf2e55",
            "9b6fdd7f21f94a9d879426048bb75405",
            "8ac16b5e3d4a4fed85c34fd3d64fb8f8",
            "04107f5a7fee4726969424bdce39873c",
            "50c4bf1ebc764fabb85ea262b71b9406",
            "5253ab8f4df5423db6f0f5346f925a4d",
            "16382d63c40e4fc7a4bcb4d47e0e62b1",
            "de7e63954c554b46a7745bac2ee13ced",
            "62ca8945338748c8a3d9e18d0c8d4bc2",
            "3499e2337cc447d893d0be38532281de",
            "c330900b34104598b38fc438451580c5",
            "fc20493c75fe408c9832f218750edc3c",
            "cc43a65bab454fe6b88b4b24c283731c",
            "52ee78ad04bb4a979527bf46a3eb7739",
            "b1a39dbf539c4c84bf04373699293915",
            "c12f39fd7a12424492ce357859e65823",
            "c834a8158e534e819cbd41409d3b5ea5",
            "44b6a91bee174ba4bd986abd68c9cd85",
            "9315065c32014141947d0ee6c7ec0656",
            "3c6d46d443e846719c5f4cfadd9fcbfc",
            "313fe854b353490bafbaf8684ea1e845",
            "0c1329312c1a4f4fa0049b53f349387b",
            "be424a6c4ac34f2ba18c7bd039717deb",
            "416e3144fb614293a58049fb01f5d66b",
            "2a22544a3cac4ff6a6bf6a3f689ef068",
            "e40ee9f609e84552b779225bd5a50fab",
            "3a1276429b4d438a8404e871420856f9",
            "a31bfebb46cd4239bdb1eab24e55b84e",
            "1ee78a0517814f9485fca847620ae127",
            "b69d89f686f04edaa729afdf31b07ea7",
            "ab3489c9712c4f9cbc679d096d5d31a0",
            "03757dc9aaac47aab448f6ee378693f4",
            "b770a33b5a7d474b9324aec2e716b384",
            "1bffbe048ed24a2db95a2fa0851c3e1d",
            "2a66aecca5324157acb90ebbf1218a86",
            "14055104020f43d59df49976a2addab7",
            "e95227601627486394f7fe2950f587cb",
            "0ba0e6ff92574e2da16eac0113b7deb8",
            "f0f36ba2ee5b4a3b977a17201baa08d6",
            "aadce36d05524572b9141b22676d36b4",
            "f8220b70946840a29329fa511b8b3cb4",
            "051507c9857546aab4b3e693e4fcb35b",
            "351c8825f1c84f7681addd61d0f4b038",
            "d9ffa6a4adaa40dfbcdced985d51f498",
            "1c5098055e094a5f81ab35893c7c7c52",
            "e4c30977b86341f7a1387b033b19ace2"
          ]
        },
        "id": "trZ7B3GkC-Ms",
        "outputId": "7f63e9d2-cb58-40db-e263-a5f3db99f589"
      },
      "source": [
        "for i,j in zip([Gom_100,Gom_200,Gom_1000,Gom_2000,Gom_10000],[gom_100,gom_200,gom_1000,Gom_2000,Gom_10000]):\n",
        "    print(check_time(i+Gom_sim,j+gom_sim))"
      ],
      "execution_count": null,
      "outputs": [
        {
          "output_type": "display_data",
          "data": {
            "application/vnd.jupyter.widget-view+json": {
              "model_id": "df087d545f4849c28f6350d25675fc47",
              "version_minor": 0,
              "version_major": 2
            },
            "text/plain": [
              "Batches:   0%|          | 0/4 [00:00<?, ?it/s]"
            ]
          },
          "metadata": {}
        },
        {
          "output_type": "stream",
          "name": "stdout",
          "text": [
            "embedding time : 1.7853081226348877 cosine_cal time : 0.012603759765625\n"
          ]
        },
        {
          "output_type": "display_data",
          "data": {
            "application/vnd.jupyter.widget-view+json": {
              "model_id": "8ac16b5e3d4a4fed85c34fd3d64fb8f8",
              "version_minor": 0,
              "version_major": 2
            },
            "text/plain": [
              "Batches:   0%|          | 0/7 [00:00<?, ?it/s]"
            ]
          },
          "metadata": {}
        },
        {
          "output_type": "stream",
          "name": "stdout",
          "text": [
            "embedding time : 2.2536377906799316 cosine_cal time : 0.06318283081054688\n"
          ]
        },
        {
          "output_type": "display_data",
          "data": {
            "application/vnd.jupyter.widget-view+json": {
              "model_id": "52ee78ad04bb4a979527bf46a3eb7739",
              "version_minor": 0,
              "version_major": 2
            },
            "text/plain": [
              "Batches:   0%|          | 0/32 [00:00<?, ?it/s]"
            ]
          },
          "metadata": {}
        },
        {
          "output_type": "stream",
          "name": "stdout",
          "text": [
            "embedding time : 7.654003620147705 cosine_cal time : 0.13722825050354004\n"
          ]
        },
        {
          "output_type": "display_data",
          "data": {
            "application/vnd.jupyter.widget-view+json": {
              "model_id": "2a22544a3cac4ff6a6bf6a3f689ef068",
              "version_minor": 0,
              "version_major": 2
            },
            "text/plain": [
              "Batches:   0%|          | 0/64 [00:00<?, ?it/s]"
            ]
          },
          "metadata": {}
        },
        {
          "output_type": "stream",
          "name": "stdout",
          "text": [
            "embedding time : 14.789103031158447 cosine_cal time : 0.19440507888793945\n"
          ]
        },
        {
          "output_type": "display_data",
          "data": {
            "application/vnd.jupyter.widget-view+json": {
              "model_id": "14055104020f43d59df49976a2addab7",
              "version_minor": 0,
              "version_major": 2
            },
            "text/plain": [
              "Batches:   0%|          | 0/314 [00:00<?, ?it/s]"
            ]
          },
          "metadata": {}
        },
        {
          "output_type": "stream",
          "name": "stdout",
          "text": [
            "embedding time : 67.22795701026917 cosine_cal time : 0.9904053211212158\n"
          ]
        }
      ]
    },
    {
      "cell_type": "code",
      "metadata": {
        "id": "ausZsAIAQhLp"
      },
      "source": [
        "# dfs로 중복되는 문장에서 가장 길이가 긴 문장만을 남기고 다 지운다.\n",
        "# 가장 길이가 긴 문장이 아니라, 그 때 그 때 마다 진행??\n",
        "# 일단 길이가 가장 긴 문장으로 sorting하고 (NlogN)\n",
        "# 그 다음에 문서를 지워준다."
      ],
      "execution_count": null,
      "outputs": []
    },
    {
      "cell_type": "code",
      "metadata": {
        "id": "9zrzcB0MVPP8"
      },
      "source": [
        ""
      ],
      "execution_count": null,
      "outputs": []
    },
    {
      "cell_type": "code",
      "metadata": {
        "id": "6QVYpI6fCl8O"
      },
      "source": [
        "import numpy as np"
      ],
      "execution_count": null,
      "outputs": []
    },
    {
      "cell_type": "code",
      "metadata": {
        "id": "hTVibVIECpzl"
      },
      "source": [
        "np.argpartition()"
      ],
      "execution_count": null,
      "outputs": []
    },
    {
      "cell_type": "code",
      "metadata": {
        "colab": {
          "base_uri": "https://localhost:8080/"
        },
        "id": "ESWLpQ9zCIEF",
        "outputId": "f1c81902-a499-4538-df49-e01ef746ceec"
      },
      "source": [
        "cos_scores.shape"
      ],
      "execution_count": null,
      "outputs": [
        {
          "output_type": "execute_result",
          "data": {
            "text/plain": [
              "torch.Size([1, 123])"
            ]
          },
          "metadata": {},
          "execution_count": 27
        }
      ]
    },
    {
      "cell_type": "code",
      "metadata": {
        "id": "ynB1XcLjB2K6"
      },
      "source": [
        "#We use np.argpartition, to only partially sort the top_k results\n",
        "    top_results = np.argpartition(-cos_scores, range(top_k))[0:top_k]\n",
        "\n",
        "    print(\"\\n\\n======================\\n\\n\")\n",
        "    print(\"Query:\", name)\n",
        "    print(\"\\nTop 5 most similar sentences in corpus:\")\n",
        "\n",
        "    for idx in top_results[0:top_k]:\n",
        "        print(gom[idx].strip(), \"(Score: %.4f)\" % (cos_scores[idx]))"
      ],
      "execution_count": null,
      "outputs": []
    },
    {
      "cell_type": "code",
      "metadata": {
        "colab": {
          "base_uri": "https://localhost:8080/"
        },
        "id": "yFKu6386-fLG",
        "outputId": "20b1a67c-3d35-4879-f7fa-27dcc4ed9859"
      },
      "source": [
        "top_k =5\n",
        "for query,name in zip(corpus_embeddings,gom):\n",
        "    cos_scores = util.pytorch_cos_sim(query, corpus_embeddings)[0]\n",
        "    cos_scores = cos_scores.cpu()\n",
        "\n",
        "    #We use np.argpartition, to only partially sort the top_k results\n",
        "    //top_results = np.argpartition(-cos_scores, range(top_k))[0:top_k]\n",
        "\n",
        "    print(\"\\n\\n======================\\n\\n\")\n",
        "    print(\"Query:\", name)\n",
        "    print(\"\\nTop 5 most similar sentences in corpus:\")\n",
        "\n",
        "    for idx in top_results[0:top_k]:\n",
        "        print(gom[idx].strip(), \"(Score: %.4f)\" % (cos_scores[idx]))"
      ],
      "execution_count": null,
      "outputs": [
        {
          "output_type": "stream",
          "name": "stdout",
          "text": [
            "\n",
            "\n",
            "======================\n",
            "\n",
            "\n",
            "Query: 24.s03e19(2004)-WAF.Korean.smi.txt\n",
            "\n",
            "Top 5 most similar sentences in corpus:\n",
            "24.s03e19(2004)-WAF.Korean.smi.txt (Score: 1.0000)\n",
            "24,s04e14(2005)-WAF.Korean.smi.txt (Score: 0.7662)\n",
            "Tenderness.2009.480p.BRRip.XviD.AC3-ViSiON.Korean.smi.txt (Score: 0.7094)\n",
            "T.d.2009.480p.BRRip.XviD.AC3-Voltage.Korean.smi.txt (Score: 0.7094)\n",
            "Tenderness.2009.XviD.AC3-Zoom.Korean.smi.txt (Score: 0.7094)\n",
            "\n",
            "\n",
            "======================\n",
            "\n",
            "\n",
            "Query: 24,s04e14(2005)-WAF.Korean.smi.txt\n",
            "\n",
            "Top 5 most similar sentences in corpus:\n",
            "24,s04e14(2005)-WAF.Korean.smi.txt (Score: 1.0000)\n",
            "24.s03e19(2004)-WAF.Korean.smi.txt (Score: 0.7662)\n",
            "Ultimate Avengers 2006 STV DVDRIP Xvid.Korean.smi.txt (Score: 0.6302)\n",
            "텐더니스 Tenderness, 러셀 크로우, 존 포스터 2009 DVDRip.Korean.smi.txt (Score: 0.6102)\n",
            "Tenderness.2009.XviD.AC3-Zoom.Korean.smi.txt (Score: 0.5982)\n",
            "\n",
            "\n",
            "======================\n",
            "\n",
            "\n",
            "Query: Tenderness.2009.480p.BRRip.XviD.AC3-ViSiON.Korean.smi.txt\n",
            "\n",
            "Top 5 most similar sentences in corpus:\n",
            "Tenderness.2009.480p.BRRip.XviD.AC3-ViSiON.Korean.smi.txt (Score: 1.0000)\n",
            "T.d.2009.480p.BRRip.XviD.AC3-Voltage.Korean.smi.txt (Score: 1.0000)\n",
            "Tenderness.2009.XviD.AC3-Zoom.Korean.smi.txt (Score: 1.0000)\n",
            "Tenderness.2009.480p.BRRip.XviD.AC3-Voltage.Korean.smi.txt (Score: 1.0000)\n",
            "Ten.der.ness.2009.480p.BRRip.XviD.AC3-ViSiON.Korean.smi.txt (Score: 1.0000)\n",
            "\n",
            "\n",
            "======================\n",
            "\n",
            "\n",
            "Query: T.d.2009.480p.BRRip.XviD.AC3-Voltage.Korean.smi.txt\n",
            "\n",
            "Top 5 most similar sentences in corpus:\n",
            "Tenderness.2009.480p.BRRip.XviD.AC3-ViSiON.Korean.smi.txt (Score: 1.0000)\n",
            "T.d.2009.480p.BRRip.XviD.AC3-Voltage.Korean.smi.txt (Score: 1.0000)\n",
            "Tenderness.2009.XviD.AC3-Zoom.Korean.smi.txt (Score: 1.0000)\n",
            "Tenderness.2009.480p.BRRip.XviD.AC3-Voltage.Korean.smi.txt (Score: 1.0000)\n",
            "Ten.der.ness.2009.480p.BRRip.XviD.AC3-ViSiON.Korean.smi.txt (Score: 1.0000)\n",
            "\n",
            "\n",
            "======================\n",
            "\n",
            "\n",
            "Query: Tenderness.2009.XviD.AC3-Zoom.Korean.smi.txt\n",
            "\n",
            "Top 5 most similar sentences in corpus:\n",
            "Tenderness.2009.480p.BRRip.XviD.AC3-ViSiON.Korean.smi.txt (Score: 1.0000)\n",
            "T.d.2009.480p.BRRip.XviD.AC3-Voltage.Korean.smi.txt (Score: 1.0000)\n",
            "Tenderness.2009.XviD.AC3-Zoom.Korean.smi.txt (Score: 1.0000)\n",
            "Tenderness.2009.480p.BRRip.XviD.AC3-Voltage.Korean.smi.txt (Score: 1.0000)\n",
            "Ten.der.ness.2009.480p.BRRip.XviD.AC3-ViSiON.Korean.smi.txt (Score: 1.0000)\n",
            "\n",
            "\n",
            "======================\n",
            "\n",
            "\n",
            "Query: Tenderness.2009.480p.BRRip.XviD.AC3-Voltage.Korean.smi.txt\n",
            "\n",
            "Top 5 most similar sentences in corpus:\n",
            "Tenderness.2009.480p.BRRip.XviD.AC3-ViSiON.Korean.smi.txt (Score: 1.0000)\n",
            "T.d.2009.480p.BRRip.XviD.AC3-Voltage.Korean.smi.txt (Score: 1.0000)\n",
            "Tenderness.2009.XviD.AC3-Zoom.Korean.smi.txt (Score: 1.0000)\n",
            "Tenderness.2009.480p.BRRip.XviD.AC3-Voltage.Korean.smi.txt (Score: 1.0000)\n",
            "Ten.der.ness.2009.480p.BRRip.XviD.AC3-ViSiON.Korean.smi.txt (Score: 1.0000)\n",
            "\n",
            "\n",
            "======================\n",
            "\n",
            "\n",
            "Query: Ten.der.ness.2009.480p.BRRip.XviD.AC3-ViSiON.Korean.smi.txt\n",
            "\n",
            "Top 5 most similar sentences in corpus:\n",
            "Tenderness.2009.480p.BRRip.XviD.AC3-ViSiON.Korean.smi.txt (Score: 1.0000)\n",
            "T.d.2009.480p.BRRip.XviD.AC3-Voltage.Korean.smi.txt (Score: 1.0000)\n",
            "Tenderness.2009.XviD.AC3-Zoom.Korean.smi.txt (Score: 1.0000)\n",
            "Tenderness.2009.480p.BRRip.XviD.AC3-Voltage.Korean.smi.txt (Score: 1.0000)\n",
            "Ten.der.ness.2009.480p.BRRip.XviD.AC3-ViSiON.Korean.smi.txt (Score: 1.0000)\n",
            "\n",
            "\n",
            "======================\n",
            "\n",
            "\n",
            "Query: Ultimate Avengers 2006 STV DVDRIP Xvid.Korean.smi.txt\n",
            "\n",
            "Top 5 most similar sentences in corpus:\n",
            "Ultimate Avengers 2006 STV DVDRIP Xvid.Korean.smi.txt (Score: 1.0000)\n",
            "Ultimate.Avengers.2.2006.STV.DVDRip.XviD-SAPHiRE.Korean.smi.txt (Score: 0.7009)\n",
            "어벤져스 인피니티 워, Avengers Infinity War, 2018.Korean.smi.txt (Score: 0.6405)\n",
            "24,s04e14(2005)-WAF.Korean.smi.txt (Score: 0.6302)\n",
            "텐더니스 Tenderness, 러셀 크로우, 존 포스터 2009 DVDRip.Korean.smi.txt (Score: 0.6259)\n",
            "\n",
            "\n",
            "======================\n",
            "\n",
            "\n",
            "Query: Ultimate.Avengers.2.2006.STV.DVDRip.XviD-SAPHiRE.Korean.smi.txt\n",
            "\n",
            "Top 5 most similar sentences in corpus:\n",
            "Ultimate.Avengers.2.2006.STV.DVDRip.XviD-SAPHiRE.Korean.smi.txt (Score: 1.0000)\n",
            "어벤져스 인피니티 워, Avengers Infinity War, 2018.Korean.smi.txt (Score: 0.7142)\n",
            "Ultimate Avengers 2006 STV DVDRIP Xvid.Korean.smi.txt (Score: 0.7009)\n",
            "텐더니스 Tenderness, 러셀 크로우, 존 포스터 2009 DVDRip.Korean.smi.txt (Score: 0.6971)\n",
            "Tenderness.2009.XviD.AC3-Zoom.Korean.smi.txt (Score: 0.6915)\n",
            "\n",
            "\n",
            "======================\n",
            "\n",
            "\n",
            "Query: ★ 0신작    텐더니스러셀크로우주연 - 2010.미개봉.범죄.480p.BRRip.XviD.AC3-ViSiON.Korean.smi.txt\n",
            "\n",
            "Top 5 most similar sentences in corpus:\n",
            "Tenderness.2009.480p.BRRip.XviD.AC3-ViSiON.Korean.smi.txt (Score: 1.0000)\n",
            "T.d.2009.480p.BRRip.XviD.AC3-Voltage.Korean.smi.txt (Score: 1.0000)\n",
            "Tenderness.2009.XviD.AC3-Zoom.Korean.smi.txt (Score: 1.0000)\n",
            "Tenderness.2009.480p.BRRip.XviD.AC3-Voltage.Korean.smi.txt (Score: 1.0000)\n",
            "Ten.der.ness.2009.480p.BRRip.XviD.AC3-ViSiON.Korean.smi.txt (Score: 1.0000)\n",
            "\n",
            "\n",
            "======================\n",
            "\n",
            "\n",
            "Query: 어벤져스 인피니티 워, Avengers Infinity War, 2018.Korean.smi.txt\n",
            "\n",
            "Top 5 most similar sentences in corpus:\n",
            "어벤져스 인피니티 워, Avengers Infinity War, 2018.Korean.smi.txt (Score: 1.0000)\n",
            "Ultimate.Avengers.2.2006.STV.DVDRip.XviD-SAPHiRE.Korean.smi.txt (Score: 0.7142)\n",
            "Ultimate Avengers 2006 STV DVDRIP Xvid.Korean.smi.txt (Score: 0.6405)\n",
            "텐더니스 Tenderness, 러셀 크로우, 존 포스터 2009 DVDRip.Korean.smi.txt (Score: 0.6057)\n",
            "Tenderness.2009.XviD.AC3-Zoom.Korean.smi.txt (Score: 0.5638)\n",
            "\n",
            "\n",
            "======================\n",
            "\n",
            "\n",
            "Query: 텐더니스.Tenderness.2009.DVDRip.XviD.AC3-ARJ.Korean.smi.txt\n",
            "\n",
            "Top 5 most similar sentences in corpus:\n",
            "Tenderness.2009.480p.BRRip.XviD.AC3-ViSiON.Korean.smi.txt (Score: 1.0000)\n",
            "T.d.2009.480p.BRRip.XviD.AC3-Voltage.Korean.smi.txt (Score: 1.0000)\n",
            "Tenderness.2009.XviD.AC3-Zoom.Korean.smi.txt (Score: 1.0000)\n",
            "Tenderness.2009.480p.BRRip.XviD.AC3-Voltage.Korean.smi.txt (Score: 1.0000)\n",
            "Ten.der.ness.2009.480p.BRRip.XviD.AC3-ViSiON.Korean.smi.txt (Score: 1.0000)\n",
            "\n",
            "\n",
            "======================\n",
            "\n",
            "\n",
            "Query: 텐더니스 Tenderness, 러셀 크로우, 존 포스터 2009 DVDRip.Korean.smi.txt\n",
            "\n",
            "Top 5 most similar sentences in corpus:\n",
            "텐더니스 Tenderness, 러셀 크로우, 존 포스터 2009 DVDRip.Korean.smi.txt (Score: 1.0000)\n",
            "Tenderness.2009.480p.BRRip.XviD.AC3-ViSiON.Korean.smi.txt (Score: 0.9631)\n",
            "T.d.2009.480p.BRRip.XviD.AC3-Voltage.Korean.smi.txt (Score: 0.9631)\n",
            "Tenderness.2009.XviD.AC3-Zoom.Korean.smi.txt (Score: 0.9631)\n",
            "Tenderness.2009.480p.BRRip.XviD.AC3-Voltage.Korean.smi.txt (Score: 0.9631)\n"
          ]
        }
      ]
    }
  ]
}